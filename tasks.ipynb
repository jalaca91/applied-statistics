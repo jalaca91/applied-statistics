{
 "cells": [
  {
   "cell_type": "markdown",
   "metadata": {},
   "source": [
    "# TASKS\n",
    "\n",
    "\n",
    "This notebook contains the tasks for this subject.\n",
    "Each task contains a different problem to solve, which will include a brief description of the problem, research content, the result of the exercise and personal conclusions when performing it.\n",
    "\n",
    "***"
   ]
  },
  {
   "cell_type": "markdown",
   "metadata": {},
   "source": [
    "## Task nº1 - Lady Tasting Tea"
   ]
  }
 ],
 "metadata": {
  "language_info": {
   "name": "python"
  }
 },
 "nbformat": 4,
 "nbformat_minor": 2
}
