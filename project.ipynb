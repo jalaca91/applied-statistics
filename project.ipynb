{
 "cells": [
  {
   "cell_type": "markdown",
   "metadata": {},
   "source": [
    "# PlantGrowth R dataset"
   ]
  },
  {
   "cell_type": "markdown",
   "metadata": {},
   "source": [
    "## Index\n",
    "1) Introduction  \n",
    "   1.1 Project context  \n",
    "   1.2 Analysis objectives  \n",
    "   1.3 Description of the PlantGrowth dataset  \n",
    "2) Libraries used in the analysis of the project \n",
    "3) What is the t statistic and ANOVA and what is it used for?  \n",
    "   3.1 t statistic  \n",
    "   3.2 ANOVA  \n",
    "   3.3 Similarities and differences  \n",
    "3) Dataset Loading and Exploration  \n",
    "4) Data analysis  \n",
    "5) Data visualization\n",
    "6) Conclusions  \n",
    "7) References"
   ]
  },
  {
   "cell_type": "markdown",
   "metadata": {},
   "source": [
    "## 1. Introduction\n",
    "\n",
    "### 1.1 Project context\n",
    "\n",
    "This fictional database about plants is a pre-loaded example dataset in R and is part of a collection of 2337 datasets which were originally distributed alongside the statistical software environment R and some of its add-on packages.  \n",
    "The goal is to make these data more broadly accessible for teaching and statistical software development.  "
   ]
  },
  {
   "cell_type": "markdown",
   "metadata": {},
   "source": [
    "### 1.2 Analysis objectives  \n",
    "\n",
    "The dataset will be used to perform statistical analyzes to determine if the treatments have a significant effect on plant growth compared to a control group.  \n",
    "The steps to be carried out are the following:  \n",
    "1. Download the database and upload it to the IDE  \n",
    "2. Describe the data set  \n",
    "3. Describe what a t-test is, how it works, and what the assumptions are  \n",
    "4. Perform a t-test to determine whether there is a significant difference between the two treatment groups trt1 and trt2.  \n",
    "5. Perform ANOVA to determine whether there is a significant difference between the three treatment groups ctrl, trt1, and trt2.  \n",
    "6. Explain why it is more appropriate to apply ANOVA rather than several t-tests when analyzing more than two groups.  "
   ]
  },
  {
   "cell_type": "markdown",
   "metadata": {},
   "source": [
    "### 1.3 Description of the PlantGrowth dataset  \n",
    "\n",
    "This fictitious database is part of the base R package (datasets) and contains the results of an experiment that measures the weight of plants after applying different treatments.  \n",
    "\n",
    "\n",
    "A brief description of this database can be found on the official website [1], summarized in the following table:  \n",
    "\n",
    "| Package  | Item        | Title                                     | CSV  | Doc  | Rows | Cols | n_binary | n_character | n_factor | n_logical | n_numeric |\n",
    "|----------|-------------|-------------------------------------------|------|------|------|------|----------|-------------|----------|-----------|-----------|\n",
    "| datasets | PlantGrowth | Results from an Experiment on Plant Growth | CSV  | Doc  | 30   | 2    | 0        | 0           | 1        | 0         | 1         |\n"
   ]
  },
  {
   "cell_type": "markdown",
   "metadata": {},
   "source": [
    "The database is really small(referring to the amount of information it contains), and contains the following data:  \n",
    "\n",
    "- Number of observations (rows):  30 is the sample size  \n",
    "- Number of variables: 2 \n",
    "    weight: A numerical variable that measures the weight of plants (in arbitrary units) after a period of growth.  \n",
    "    group: A categorical variable that indicates the treatment group to which each plant belongs. It has three levels:  \n",
    "\n",
    "            ctrl: Control group, without treatment applied.    \n",
    "            trt1: First treatment group.  \n",
    "            trt2: Second treatment group.  "
   ]
  },
  {
   "cell_type": "markdown",
   "metadata": {},
   "source": [
    "## 2. Libraries used in the analysis of the project  \n",
    "\n",
    "\n"
   ]
  },
  {
   "cell_type": "markdown",
   "metadata": {},
   "source": [
    "To carry out this project, the following python libraries are useful:\n",
    "\n",
    "**Pandas**: It is one of the main libraries for the manipulation and analysis of existing data. It is used to load, process and clean the data set.  \n",
    "\n",
    "**NumPy**: Used for numerical calculations and matrix operations, commonly used with Pandas.\n",
    "\n",
    "**Matplotlib**: Library used for data visualization.  \n",
    "\n",
    "**SciPy**: Contains statistical tools that allow you to perform tests such as ANOVA to analyze the differences between groups.\n"
   ]
  },
  {
   "cell_type": "markdown",
   "metadata": {},
   "source": [
    "## 3. What is the t statistic and ANOVA and what is it used for? \n",
    "\n",
    "### 3.1 t statistic\n",
    "\n",
    "**The t-statistic**, which is a value that serves as a test to know if the difference between the response of two groups is statistically significant or not.  \n",
    "\n",
    "This statistic is based on the student t distribution, which shares similarities with the normal distribution, since both are continuous, have a bell shape or their standardized mean is equal to 0, however the tails or edges of the t distribution are more coarse, due to the additional uncertainty generated by the lack of knowledge of the sample variance.  \n",
    "Having already used the normal distribution, the t distribution is used for this assumption since the sample is much smaller and the population variance is unknown.  \n",
    "\n",
    "### 3.2 ANOVA  \n",
    "\n",
    "**ANOVA (Analysis of Variance)** is a statistical technique that is used to compare the means of three or more groups and determine if there are significant differences between them. Evaluate variability within and between groups to verify whether observed differences are due to specific factors or chance.  \n",
    "It is based on the relationship between the explained variance (between groups) and the unexplained variance (within groups), expressed by a statistic called 𝐹.  \n",
    "This statistic is commonly used in experiments and studies with multiple categories.\n",
    "\n",
    "###  3.3 Similarities and differences \n",
    "Both the t statistic and ANOVA (the analysis of variance) are closely related because they both evaluate differences between group means, but they differ in how they are applied and in the scenarios for which they are designed.    \n",
    "\n",
    "\n",
    "The usefulness and difference between both statistics is shown in the following table:\n",
    "\n",
    "| **Aspect**         | **t-test**                                      | **ANOVA**                                     |\n",
    "|---------------------|------------------------------------------------|-----------------------------------------------|\n",
    "| **Number of groups** | Compares the means of **two groups**           | Compares the means of **three or more groups** |\n",
    "| **Null hypothesis** | The means of the two groups are equal          | All group means are equal                     |\n",
    "| **Statistic**       | Computes the **t** value                       | Computes the **F** value                      |\n",
    "| **Purpose**         | Determine if there is a significant difference between two specific groups | Determine if at least one group is different from the others |\n"
   ]
  },
  {
   "cell_type": "markdown",
   "metadata": {},
   "source": [
    "## 3 Dataset Loading and Exploration  \n",
    "\n",
    "To load the data from the database, first of all i have to use the functionalities of the Pandas library, so first of all I have to import all the necessary libraries for both the data analysis and the visualization part."
   ]
  },
  {
   "cell_type": "code",
   "execution_count": 1,
   "metadata": {},
   "outputs": [],
   "source": [
    "import pandas as pd\n",
    "import numpy as np\n",
    "import matplotlib.pyplot as plt \n",
    "import scipy.stats as stats  "
   ]
  },
  {
   "cell_type": "markdown",
   "metadata": {},
   "source": [
    "To load the database, I use the following code that uses Pandas:"
   ]
  },
  {
   "cell_type": "code",
   "execution_count": 2,
   "metadata": {},
   "outputs": [
    {
     "name": "stdout",
     "output_type": "stream",
     "text": [
      "   rownames  weight group\n",
      "0         1    4.17  ctrl\n",
      "1         2    5.58  ctrl\n",
      "2         3    5.18  ctrl\n",
      "3         4    6.11  ctrl\n",
      "4         5    4.50  ctrl\n"
     ]
    }
   ],
   "source": [
    "# Using pandas to create a  dataframe and open the database\n",
    "data_path = \"project-db/PlantGrowth.csv\"\n",
    "plant_growth_data = pd.read_csv(data_path)\n",
    "\n",
    "# Check the first rows to see how the database looks like\n",
    "print(plant_growth_data.head())"
   ]
  },
  {
   "cell_type": "markdown",
   "metadata": {},
   "source": [
    "Although previously in section 1.3 I have made a first introduction and description of the variables, using the following code you can also obtain similar information:"
   ]
  },
  {
   "cell_type": "code",
   "execution_count": 3,
   "metadata": {},
   "outputs": [
    {
     "name": "stdout",
     "output_type": "stream",
     "text": [
      "Rows and columns: (30, 3)\n"
     ]
    }
   ],
   "source": [
    "# Dataset size\n",
    "print(f\"Rows and columns: {plant_growth_data.shape}\")"
   ]
  },
  {
   "cell_type": "markdown",
   "metadata": {},
   "source": [
    "***\n",
    "## References  \n",
    " \n",
    "https://vincentarelbundock.github.io/Rdatasets/articles/data.html[1]\n",
    "https://vincentarelbundock.github.io/Rdatasets/doc/datasets/PlantGrowth.html  \n",
    "https://github.com/vincentarelbundock/Rdatasets/tree/master  \n",
    "https://www.investopedia.com/terms/t/t-test.asp  "
   ]
  }
 ],
 "metadata": {
  "kernelspec": {
   "display_name": "base",
   "language": "python",
   "name": "python3"
  },
  "language_info": {
   "codemirror_mode": {
    "name": "ipython",
    "version": 3
   },
   "file_extension": ".py",
   "mimetype": "text/x-python",
   "name": "python",
   "nbconvert_exporter": "python",
   "pygments_lexer": "ipython3",
   "version": "3.10.13"
  }
 },
 "nbformat": 4,
 "nbformat_minor": 2
}
