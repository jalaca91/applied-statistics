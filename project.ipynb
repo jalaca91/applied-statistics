{
 "cells": [
  {
   "cell_type": "markdown",
   "metadata": {},
   "source": [
    "# PlantGrowth R dataset"
   ]
  },
  {
   "cell_type": "markdown",
   "metadata": {},
   "source": [
    "## Index\n",
    "1) Introduction  \n",
    "   1.1 Project context  \n",
    "   1.2 Analysis objectives  \n",
    "   1.3 Description of the PlantGrowth dataset  \n",
    "2) Libraries used in the analysis of the project \n",
    "3) What is the t statistic and ANOVA and what is it used for?  \n",
    "   3.1 t statistic  \n",
    "   3.2 ANOVA  \n",
    "   3.3 Similarities and differences  \n",
    "3) Dataset Loading and Exploration  \n",
    "4) Data analysis  \n",
    "5) Data visualization\n",
    "6) Conclusions  \n",
    "7) References"
   ]
  },
  {
   "cell_type": "markdown",
   "metadata": {},
   "source": [
    "## 1. Introduction\n",
    "\n",
    "### 1.1 Project context\n",
    "\n",
    "This fictional database about plants is a pre-loaded example dataset in R and is part of a collection of 2337 datasets which were originally distributed alongside the statistical software environment R and some of its add-on packages.  \n",
    "The goal is to make these data more broadly accessible for teaching and statistical software development.  "
   ]
  },
  {
   "cell_type": "markdown",
   "metadata": {},
   "source": [
    "### 1.2 Analysis objectives  \n",
    "\n",
    "The dataset will be used to perform statistical analyzes to determine if the treatments have a significant effect on plant growth compared to a control group.  \n",
    "The steps to be carried out are the following:  \n",
    "1. Download the database and upload it to the IDE  \n",
    "2. Describe the data set  \n",
    "3. Describe what a t-test is, how it works, and what the assumptions are  \n",
    "4. Perform a t-test to determine whether there is a significant difference between the two treatment groups trt1 and trt2.  \n",
    "5. Perform ANOVA to determine whether there is a significant difference between the three treatment groups ctrl, trt1, and trt2.  \n",
    "6. Explain why it is more appropriate to apply ANOVA rather than several t-tests when analyzing more than two groups.  "
   ]
  },
  {
   "cell_type": "markdown",
   "metadata": {},
   "source": [
    "### 1.3 Description of the PlantGrowth dataset  \n",
    "\n",
    "This fictitious database is part of the base R package (datasets) and contains the results of an experiment that measures the weight of plants after applying different treatments.  \n",
    "\n",
    "\n",
    "A brief description of this database can be found on the official website [1], summarized in the following table:  \n",
    "\n",
    "| Package  | Item        | Title                                     | CSV  | Doc  | Rows | Cols | n_binary | n_character | n_factor | n_logical | n_numeric |\n",
    "|----------|-------------|-------------------------------------------|------|------|------|------|----------|-------------|----------|-----------|-----------|\n",
    "| datasets | PlantGrowth | Results from an Experiment on Plant Growth | CSV  | Doc  | 30   | 2    | 0        | 0           | 1        | 0         | 1         |\n"
   ]
  },
  {
   "cell_type": "markdown",
   "metadata": {},
   "source": [
    "The database is really small(referring to the amount of information it contains), and contains the following data:  \n",
    "\n",
    "- Number of observations (rows):  30 is the sample size  \n",
    "- Number of variables: 2 \n",
    "    weight: A numerical variable that measures the weight of plants (in arbitrary units) after a period of growth.  \n",
    "    group: A categorical variable that indicates the treatment group to which each plant belongs. It has three levels:  \n",
    "\n",
    "            ctrl: Control group, without treatment applied.    \n",
    "            trt1: First treatment group.  \n",
    "            trt2: Second treatment group.  "
   ]
  },
  {
   "cell_type": "markdown",
   "metadata": {},
   "source": [
    "## 2. Libraries used in the analysis of the project  \n",
    "\n",
    "\n"
   ]
  },
  {
   "cell_type": "markdown",
   "metadata": {},
   "source": [
    "......................"
   ]
  },
  {
   "cell_type": "markdown",
   "metadata": {},
   "source": [
    "***\n",
    "## References  \n",
    " \n",
    "https://vincentarelbundock.github.io/Rdatasets/articles/data.html[1]\n",
    "https://vincentarelbundock.github.io/Rdatasets/doc/datasets/PlantGrowth.html  \n",
    "https://github.com/vincentarelbundock/Rdatasets/tree/master  \n",
    "https://www.investopedia.com/terms/t/t-test.asp  "
   ]
  }
 ],
 "metadata": {
  "language_info": {
   "name": "python"
  }
 },
 "nbformat": 4,
 "nbformat_minor": 2
}
