{
 "cells": [
  {
   "cell_type": "markdown",
   "metadata": {},
   "source": [
    "# PlantGrowth R dataset"
   ]
  },
  {
   "cell_type": "markdown",
   "metadata": {},
   "source": [
    "## Index\n",
    "1) Introduction  \n",
    "   1.1 Project context  \n",
    "   1.2 Analysis objectives  \n",
    "   1.3 Description of the PlantGrowth dataset  \n",
    "2) Libraries used in the analysis of the project \n",
    "3) What is the t statistic and ANOVA and what is it used for?  \n",
    "   3.1 t statistic  \n",
    "   3.2 ANOVA  \n",
    "   3.3 Similarities and differences  \n",
    "3) Dataset Loading and Exploration\n",
    "4) Data analysis  \n",
    "   4.1 Formulation of the hypothesis\n",
    "   4.2 Perform a t-test  \n",
    "   4.3 Perform ANOVA \n",
    "   4.4 ANOVA vs several t-test\n",
    "5) Conclusions  \n",
    "6) References"
   ]
  },
  {
   "cell_type": "markdown",
   "metadata": {},
   "source": [
    "## 1. Introduction\n",
    "\n",
    "### 1.1 Project context\n",
    "\n",
    "This fictional database about plants is a pre-loaded example dataset in R and is part of a collection of 2337 datasets which were originally distributed alongside the statistical software environment R and some of its add-on packages.  \n",
    "The goal is to make these data more broadly accessible for teaching and statistical software development.  "
   ]
  },
  {
   "cell_type": "markdown",
   "metadata": {},
   "source": [
    "### 1.2 Analysis objectives  \n",
    "\n",
    "The dataset will be used to perform statistical analyzes to determine if the treatments have a significant effect on plant growth compared to a control group.  \n",
    "The steps to be carried out are the following:  \n",
    "1. Download the database and upload it to the IDE  \n",
    "2. Describe the data set  \n",
    "3. Describe what a t-test is, how it works, and what the assumptions are  \n",
    "4. Perform a t-test to determine whether there is a significant difference between the two treatment groups trt1 and trt2.  \n",
    "5. Perform ANOVA to determine whether there is a significant difference between the three treatment groups ctrl, trt1, and trt2.  \n",
    "6. Explain why it is more appropriate to apply ANOVA rather than several t-tests when analyzing more than two groups.  "
   ]
  },
  {
   "cell_type": "markdown",
   "metadata": {},
   "source": [
    "### 1.3 Description of the PlantGrowth dataset  \n",
    "\n",
    "This fictitious database is part of the base R package (datasets) and contains the results of an experiment that measures the weight of plants after applying different treatments.  \n",
    "\n",
    "\n",
    "A brief description of this database can be found on the official website [1], summarized in the following table:  \n",
    "\n",
    "| Package  | Item        | Title                                     | CSV  | Doc  | Rows | Cols | n_binary | n_character | n_factor | n_logical | n_numeric |\n",
    "|----------|-------------|-------------------------------------------|------|------|------|------|----------|-------------|----------|-----------|-----------|\n",
    "| datasets | PlantGrowth | Results from an Experiment on Plant Growth | CSV  | Doc  | 30   | 2    | 0        | 0           | 1        | 0         | 1         |\n"
   ]
  },
  {
   "cell_type": "markdown",
   "metadata": {},
   "source": [
    "The database is really small(referring to the amount of information it contains), and contains the following data:  \n",
    "\n",
    "- Number of observations (rows):  30 is the sample size  \n",
    "- Number of variables: 2 \n",
    "    weight: A numerical variable that measures the weight of plants (in arbitrary units) after a period of growth.  \n",
    "    group: A categorical variable that indicates the treatment group to which each plant belongs. It has three levels:  \n",
    "\n",
    "            ctrl: Control group, without treatment applied.    \n",
    "            trt1: First treatment group.  \n",
    "            trt2: Second treatment group.  "
   ]
  },
  {
   "cell_type": "markdown",
   "metadata": {},
   "source": [
    "## 2. Libraries used in the analysis of the project  \n",
    "\n",
    "\n"
   ]
  },
  {
   "cell_type": "markdown",
   "metadata": {},
   "source": [
    "To carry out this project, the following python libraries are useful:\n",
    "\n",
    "**Pandas**: It is one of the main libraries for the manipulation and analysis of existing data. It is used to load, process and clean the data set.  \n",
    "\n",
    "**NumPy**: Used for numerical calculations and matrix operations, commonly used with Pandas.\n",
    "\n",
    "**Matplotlib**: Library used for data visualization.  \n",
    "\n",
    "**SciPy**: Contains statistical tools that allow you to perform tests such as ANOVA to analyze the differences between groups.\n"
   ]
  },
  {
   "cell_type": "markdown",
   "metadata": {},
   "source": [
    "## 3. What is the t statistic and ANOVA and what is it used for? \n",
    "\n",
    "### 3.1 t statistic\n",
    "\n",
    "**The t-statistic**, which is a value that serves as a test to know if the difference between the response of two groups is statistically significant or not.  \n",
    "\n",
    "This statistic is based on the student t distribution, which shares similarities with the normal distribution, since both are continuous, have a bell shape or their standardized mean is equal to 0, however the tails or edges of the t distribution are more coarse, due to the additional uncertainty generated by the lack of knowledge of the sample variance.  \n",
    "Having already used the normal distribution, the t distribution is used for this assumption since the sample is much smaller and the population variance is unknown.  \n",
    "\n",
    "### 3.2 ANOVA  \n",
    "\n",
    "**ANOVA (Analysis of Variance)** is a statistical technique that is used to compare the means of three or more groups and determine if there are significant differences between them. Evaluate variability within and between groups to verify whether observed differences are due to specific factors or chance.  \n",
    "It is based on the relationship between the explained variance (between groups) and the unexplained variance (within groups), expressed by a statistic called 𝐹.  \n",
    "This statistic is commonly used in experiments and studies with multiple categories.\n",
    "\n",
    "###  3.3 Similarities and differences \n",
    "Both the t statistic and ANOVA (the analysis of variance) are closely related because they both evaluate differences between group means, but they differ in how they are applied and in the scenarios for which they are designed.    \n",
    "\n",
    "\n",
    "The usefulness and difference between both statistics is shown in the following table:\n",
    "\n",
    "| **Aspect**         | **t-test**                                      | **ANOVA**                                     |\n",
    "|---------------------|------------------------------------------------|-----------------------------------------------|\n",
    "| **Number of groups** | Compares the means of **two groups**           | Compares the means of **three or more groups** |\n",
    "| **Null hypothesis** | The means of the two groups are equal          | All group means are equal                     |\n",
    "| **Statistic**       | Computes the **t** value                       | Computes the **F** value                      |\n",
    "| **Purpose**         | Determine if there is a significant difference between two specific groups | Determine if at least one group is different from the others |\n"
   ]
  },
  {
   "cell_type": "markdown",
   "metadata": {},
   "source": [
    "## 3 Dataset Loading and Exploration  \n",
    "\n",
    "To load the data from the database, first of all i have to use the functionalities of the Pandas library, so first of all I have to import all the necessary libraries for both the data analysis and the visualization part."
   ]
  },
  {
   "cell_type": "code",
   "execution_count": 1,
   "metadata": {},
   "outputs": [],
   "source": [
    "import pandas as pd\n",
    "import numpy as np\n",
    "import matplotlib.pyplot as plt \n",
    "import scipy.stats as stats  "
   ]
  },
  {
   "cell_type": "markdown",
   "metadata": {},
   "source": [
    "To load the database, I use the following code that uses Pandas:"
   ]
  },
  {
   "cell_type": "code",
   "execution_count": 2,
   "metadata": {},
   "outputs": [
    {
     "name": "stdout",
     "output_type": "stream",
     "text": [
      "   rownames  weight group\n",
      "0         1    4.17  ctrl\n",
      "1         2    5.58  ctrl\n",
      "2         3    5.18  ctrl\n",
      "3         4    6.11  ctrl\n",
      "4         5    4.50  ctrl\n"
     ]
    }
   ],
   "source": [
    "# Using pandas to create a  dataframe and open the database\n",
    "data_path = \"project-db/PlantGrowth.csv\"\n",
    "plant_growth_data = pd.read_csv(data_path)\n",
    "\n",
    "# Check the first rows to see how the database looks like\n",
    "print(plant_growth_data.head())"
   ]
  },
  {
   "cell_type": "markdown",
   "metadata": {},
   "source": [
    "Although previously in section 1.3 I have made a first introduction and description of the variables, using the following code you can also obtain similar information:"
   ]
  },
  {
   "cell_type": "code",
   "execution_count": 3,
   "metadata": {},
   "outputs": [
    {
     "name": "stdout",
     "output_type": "stream",
     "text": [
      "Rows and columns: (30, 3)\n",
      "<class 'pandas.core.frame.DataFrame'>\n",
      "RangeIndex: 30 entries, 0 to 29\n",
      "Data columns (total 3 columns):\n",
      " #   Column    Non-Null Count  Dtype  \n",
      "---  ------    --------------  -----  \n",
      " 0   rownames  30 non-null     int64  \n",
      " 1   weight    30 non-null     float64\n",
      " 2   group     30 non-null     object \n",
      "dtypes: float64(1), int64(1), object(1)\n",
      "memory usage: 848.0+ bytes\n",
      "None\n"
     ]
    }
   ],
   "source": [
    "# Dataset size\n",
    "print(f\"Rows and columns: {plant_growth_data.shape}\")\n",
    "\n",
    "# Summary of variables\n",
    "print(plant_growth_data.info())"
   ]
  },
  {
   "cell_type": "markdown",
   "metadata": {},
   "source": [
    "The previous code shows us that the database is made up of 30 entries, or in other words, the sample size.\n",
    "It also tells us the nature of the variables; their meaning is explained below:\n",
    "- **int64**: Represents 64-bit integer data.  \n",
    "- **float64**: Represents 64-bit float data.  \n",
    "- **object**:  It can contain both string (text) and another non-numeric character.  \n",
    "\n",
    "As it is a database with a small population, it can be printed directly on the document.  "
   ]
  },
  {
   "cell_type": "code",
   "execution_count": 4,
   "metadata": {},
   "outputs": [
    {
     "name": "stdout",
     "output_type": "stream",
     "text": [
      "    rownames  weight group\n",
      "0          1    4.17  ctrl\n",
      "1          2    5.58  ctrl\n",
      "2          3    5.18  ctrl\n",
      "3          4    6.11  ctrl\n",
      "4          5    4.50  ctrl\n",
      "5          6    4.61  ctrl\n",
      "6          7    5.17  ctrl\n",
      "7          8    4.53  ctrl\n",
      "8          9    5.33  ctrl\n",
      "9         10    5.14  ctrl\n",
      "10        11    4.81  trt1\n",
      "11        12    4.17  trt1\n",
      "12        13    4.41  trt1\n",
      "13        14    3.59  trt1\n",
      "14        15    5.87  trt1\n",
      "15        16    3.83  trt1\n",
      "16        17    6.03  trt1\n",
      "17        18    4.89  trt1\n",
      "18        19    4.32  trt1\n",
      "19        20    4.69  trt1\n",
      "20        21    6.31  trt2\n",
      "21        22    5.12  trt2\n",
      "22        23    5.54  trt2\n",
      "23        24    5.50  trt2\n",
      "24        25    5.37  trt2\n",
      "25        26    5.29  trt2\n",
      "26        27    4.92  trt2\n",
      "27        28    6.15  trt2\n",
      "28        29    5.80  trt2\n",
      "29        30    5.26  trt2\n"
     ]
    }
   ],
   "source": [
    "print(plant_growth_data)"
   ]
  },
  {
   "cell_type": "markdown",
   "metadata": {},
   "source": [
    "Once I have seen what the database contains, I can use the code to generate a descriptive statistical summary of the numerical columns of the dataframe obtained from the database.  \n",
    "\n",
    "This summary is a quick way to know the general distribution of the data, plan more advanced analyzes or detect outliers, both maximum and minimum values."
   ]
  },
  {
   "cell_type": "code",
   "execution_count": 5,
   "metadata": {},
   "outputs": [
    {
     "name": "stdout",
     "output_type": "stream",
     "text": [
      "        rownames     weight\n",
      "count  30.000000  30.000000\n",
      "mean   15.500000   5.073000\n",
      "std     8.803408   0.701192\n",
      "min     1.000000   3.590000\n",
      "25%     8.250000   4.550000\n",
      "50%    15.500000   5.155000\n",
      "75%    22.750000   5.530000\n",
      "max    30.000000   6.310000\n"
     ]
    }
   ],
   "source": [
    "# Descriptive statistics of numerical variables\n",
    "print(plant_growth_data.describe())"
   ]
  },
  {
   "cell_type": "markdown",
   "metadata": {},
   "source": [
    "Looking at these basic statistical data, I can draw the following conclusions:\n",
    "- For the rownames attribute the values are evenly distributed from 1 to 30.  \n",
    "- For the weight attribute the values are more concentrated between 4.55 and 5.53, indicating that most of the data are close to the average. \n",
    "\n",
    "Given a quick first look and having already loaded the information, it is time to carry out a more in-depth analysis.  "
   ]
  },
  {
   "cell_type": "markdown",
   "metadata": {},
   "source": [
    "## 4. Data analysis  \n",
    "\n",
    "### 4.1 Formulation of the hypothesis\n",
    "\n",
    "To recap,this experiment wants to evaluate the possible effect that two different treatments (trt1 and trt2) have on the weight of the plants, comparing  \n",
    "them with a control group (ctrl) that does not receive treatment.\n",
    "\n",
    "As seen before with the code  `plant_growth_data.describe())`  ,most of the data from the weight are close to the average, which implies that the plants start from a very similar initial situation, which helps determine the possible effects of the treatments.  \n",
    "\n",
    "For the comparison between the trt1 and trt2 groups, I am going to carry out a hypothesis test in which the hypothesis must be raised with respect to the variable weight of the plants.  \n",
    "\n",
    "**Null Hypothesis** :  There is no significant difference in the mean weights between the trt1 and trt2 groups.  \n",
    "\n",
    "**Alternative Hypothesis** : There is a significant difference in the mean weights between the trt1 and trt2 groups."
   ]
  },
  {
   "cell_type": "markdown",
   "metadata": {},
   "source": [
    "For the analysis part, I am going to perform two tests separately.\n",
    "\n",
    "First a test with the t statistic and then with ANOVA, to compare the results between both statistical tests. \n",
    "\n",
    "### 4.2 Perform a t-test  "
   ]
  },
  {
   "cell_type": "code",
   "execution_count": 6,
   "metadata": {},
   "outputs": [
    {
     "name": "stdout",
     "output_type": "stream",
     "text": [
      "T-statistic: -3.0100985421243616\n",
      "P-value: 0.0075184261182198574\n"
     ]
    }
   ],
   "source": [
    "# Filter the data by treatment groups\n",
    "group_trt1 = plant_growth_data[plant_growth_data[\"group\"] == \"trt1\"][\"weight\"]\n",
    "group_trt2 = plant_growth_data[plant_growth_data[\"group\"] == \"trt2\"][\"weight\"]  \n",
    "\n",
    "# Significance level\n",
    "alpha = 0.05\n",
    "\n",
    "# Perform the t-test between trt1 and trt2\n",
    "t_stat, p_value = stats.ttest_ind(group_trt1, group_trt2, equal_var=True)\n",
    "\n",
    "# Results\n",
    "print(f\"T-statistic: {t_stat}\")\n",
    "print(f\"P-value: {p_value}\")"
   ]
  },
  {
   "cell_type": "markdown",
   "metadata": {},
   "source": [
    "𝑝-worth = 0.0075  \n",
    "p-value =0.0075 < α , so the null hypothesis is rejected.  \n",
    "\n",
    "By rejecting the null hypothesis in favor of the alternative hypothesis ,this suggests that there is sufficient statistical evidence to conclude that there is a significant difference in the mean weights between the trt1 and trt2 groups.  \n",
    "Now, the test tells us that there are significant differences in the treatments, but to complete this evidence of the data, I can use different graphs that show this conclusion.  \n",
    "\n",
    "I can create a graph that shows the individual weight values ​​for the 30 records in the dataset, distinguishing the groups with different colors. A good option for this purpose would be a scatter plot."
   ]
  },
  {
   "cell_type": "code",
   "execution_count": 7,
   "metadata": {},
   "outputs": [
    {
     "data": {
      "image/png": "[encoded data removed]",
      "text/plain": [
       "<Figure size 800x600 with 1 Axes>"
      ]
     },
     "metadata": {},
     "output_type": "display_data"
    }
   ],
   "source": [
    "# Colors for each group\n",
    "colors = {\"ctrl\": \"blue\", \"trt1\": \"green\", \"trt2\": \"red\"}\n",
    "\n",
    "# Map colors to points based on the group\n",
    "group_colors = plant_growth_data[\"group\"].map(colors)\n",
    "\n",
    "# Create the scatter plot\n",
    "plt.figure(figsize=(8, 6))\n",
    "plt.scatter(\n",
    "    range(len(plant_growth_data)),  # Number of observations (n =30)\n",
    "    plant_growth_data[\"weight\"],    # (weight)\n",
    "    c=group_colors,                 # Colors of the dots\n",
    "    edgecolor=\"black\",              # Color for the edge\n",
    "    s=100,                          # Size of the dots\n",
    "    \n",
    ")\n",
    "\n",
    "# Labels and title\n",
    "plt.title(\"Weight of Plants by Group (n=30)\", fontsize=14)\n",
    "plt.xlabel(\"Number of observations\", fontsize=12)\n",
    "plt.ylabel(\"Weight\", fontsize=12)\n",
    "plt.grid(axis=\"y\", linestyle=\"--\", alpha=0.7)\n",
    "\n",
    "# Create a legend to distinguish colors\n",
    "plt.legend(\n",
    "    handles=[plt.Line2D([0], [0], marker=\"o\", color=\"w\", markerfacecolor=c, markersize=10, label=grp)\n",
    "             for grp, c in colors.items()],\n",
    "    title=\"Groups\",\n",
    "    loc=\"upper left\"\n",
    ")\n",
    "\n",
    "# Show graph\n",
    "plt.tight_layout()\n",
    "plt.show()"
   ]
  },
  {
   "cell_type": "markdown",
   "metadata": {},
   "source": [
    "A few key observations can be made based on this graph:\n",
    "- **Group differences**: \n",
    "As mentioned before, the control group (coloured in blue) appears to have weights centered around 5.0.  \n",
    "The treatment 1 group (green) shows more variability and low values below 5.0.  \n",
    "The treatment 2 group (orange) has the higher values, almost all of them above 5.0.  \n",
    "- **Trends**:\n",
    "The control group seems very stable in terms of weight distribution.  \n",
    "The treatment 1 may have induced weight loss.  \n",
    "On the contrary, treatment 2 seems to have obtained the opposite result, having an increase in weight.  \n",
    "- **Outliers**: Data points that significantly deviate from the rest of the dataset.  \n",
    "There are no obvious outliers, just a couple of high and low values with respect to the average."
   ]
  },
  {
   "cell_type": "markdown",
   "metadata": {},
   "source": [
    "### 4.3 Perform ANOVA  \n",
    "Now is the time to perform the ANOVA test to then compare both results.  \n",
    "To carry out the Anova test I am going to use the functionalities of the Scipy library."
   ]
  },
  {
   "cell_type": "code",
   "execution_count": 8,
   "metadata": {},
   "outputs": [
    {
     "name": "stdout",
     "output_type": "stream",
     "text": [
      "F-statistic: 4.846087862380136\n",
      "P-value: 0.0159099583256229\n"
     ]
    }
   ],
   "source": [
    "\n",
    "# Extract data for each group\n",
    "group_ctrl = plant_growth_data[plant_growth_data[\"group\"] == \"ctrl\"][\"weight\"]\n",
    "group_trt1 = plant_growth_data[plant_growth_data[\"group\"] == \"trt1\"][\"weight\"]\n",
    "group_trt2 = plant_growth_data[plant_growth_data[\"group\"] == \"trt2\"][\"weight\"]\n",
    "\n",
    "# One way Anova\n",
    "f_statistic, p_value = stats.f_oneway(group_ctrl,group_trt1,group_trt2)\n",
    "\n",
    "# Significance level\n",
    "alpha = 0.05\n",
    "\n",
    "print(f\"F-statistic: {f_statistic}\")\n",
    "print(f\"P-value: {p_value}\")"
   ]
  },
  {
   "cell_type": "markdown",
   "metadata": {},
   "source": [
    "𝑝-worth = 0.0159 \n",
    "p-value =0.0075 < α , so the null hypothesis is rejected.  \n",
    "The result is the same than using the t-test ;by rejecting the null hypothesis in favor of the alternative hypothesis ,this suggests that there is sufficient statistical evidence to conclude that there is a significant difference in the mean weights between the trt1 and trt2 groups.  "
   ]
  },
  {
   "cell_type": "markdown",
   "metadata": {},
   "source": [
    "***\n",
    "## References  \n",
    " \n",
    "https://vincentarelbundock.github.io/Rdatasets/articles/data.html [1]  \n",
    "https://vincentarelbundock.github.io/Rdatasets/doc/datasets/PlantGrowth.html  \n",
    "https://github.com/vincentarelbundock/Rdatasets/tree/master  \n",
    "https://www.investopedia.com/terms/t/t-test.asp  \n",
    "https://docs.scipy.org/doc/scipy/reference/generated/scipy.stats.ttest_rel.html#ttest-rel  \n",
    "https://matplotlib.org/stable/api/_as_gen/matplotlib.pyplot.scatter.html  \n",
    "https://matplotlib.org/stable/api/_as_gen/matplotlib.pyplot.legend.html  \n",
    "https://docs.scipy.org/doc/scipy/reference/generated/scipy.stats.norm.html   \n",
    "\n"
   ]
  }
 ],
 "metadata": {
  "kernelspec": {
   "display_name": "base",
   "language": "python",
   "name": "python3"
  },
  "language_info": {
   "codemirror_mode": {
    "name": "ipython",
    "version": 3
   },
   "file_extension": ".py",
   "mimetype": "text/x-python",
   "name": "python",
   "nbconvert_exporter": "python",
   "pygments_lexer": "ipython3",
   "version": "3.10.13"
  }
 },
 "nbformat": 4,
 "nbformat_minor": 2
}
